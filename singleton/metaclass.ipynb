{
 "cells": [
  {
   "cell_type": "code",
   "execution_count": 1,
   "metadata": {},
   "outputs": [
    {
     "output_type": "stream",
     "name": "stdout",
     "text": [
      "===> Mymeta.__new__\n__name__ Mymeta\n===> Mymeta.__init__\n__name__ Foo\n{'__module__': '__main__', '__qualname__': 'Foo', 'yaml_tag': '!Foo', '__init__': <function Foo.__init__ at 0x11244e7a0>, '__new__': <function Foo.__new__ at 0x10f632680>, '__classcell__': <cell at 0x11269b690: Mymeta object at 0x7fc45124ac40>}\n!Foo\n"
     ]
    }
   ],
   "source": [
    "class Mymeta(type):\n",
    "    \"\"\"\n",
    "    继承type的类就是元类，否则就是一个普通的自定义类\n",
    "    自定义元类可以控制类的产生过程\n",
    "    \n",
    "    \"\"\"\n",
    "    def __init__(self, name, bases, attrs):\n",
    "        super().__init__(name, bases, attrs)\n",
    "        print('===> Mymeta.__init__')\n",
    "        print('__name__', self.__name__)\n",
    "        print(attrs)\n",
    "        print(self.yaml_tag)\n",
    "        \n",
    "    def __new__(cls, name, bases, attrs):\n",
    "        print('===> Mymeta.__new__')\n",
    "        print('__name__', cls.__name__)\n",
    "        return type.__new__(cls, name, bases, attrs)\n",
    "    \n",
    "    def __call__(cls, *args, **kwargs):\n",
    "        print('===> Mymeta.__call__')\n",
    "        print(args)\n",
    "        print(kwargs)\n",
    "        obj = self.__new__(self)\n",
    "        self.__init__(obj, *args, **kwargs)\n",
    "        return obj\n",
    "    \n",
    "class Foo(object, metaclass=Mymeta):\n",
    "    \"\"\"\n",
    "    一个类没有声明自己的元类，默认就是内置的 type ，如果指定元类，则使用 metaclass 关键字参数来指定元类\n",
    "    \"\"\"\n",
    "    yaml_tag = '!Foo'\n",
    "    \n",
    "    def __init__(self, name):\n",
    "        print('Foo.__init__')\n",
    "        self.name = name\n",
    "    \n",
    "    def __new__(cls, *args, **kwargs):\n",
    "        print('Foo.__new__')\n",
    "        return super().__new__(cls, *args, **kwargs)\n",
    "        "
   ]
  },
  {
   "cell_type": "code",
   "execution_count": 2,
   "metadata": {},
   "outputs": [
    {
     "output_type": "stream",
     "name": "stdout",
     "text": [
      "===> Mymeta.__call__\n('foo',)\n{}\nFoo.__new__\nFoo.__init__\n"
     ]
    }
   ],
   "source": [
    "foo = Foo('foo')"
   ]
  },
  {
   "cell_type": "code",
   "execution_count": null,
   "metadata": {},
   "outputs": [],
   "source": []
  }
 ],
 "metadata": {
  "kernelspec": {
   "display_name": "Python 3.7.7 64-bit ('env_37': conda)",
   "language": "python",
   "name": "python37764bitenv37conda145b84704f894a1dbd2c9638aa7c3896"
  },
  "language_info": {
   "codemirror_mode": {
    "name": "ipython",
    "version": 3
   },
   "file_extension": ".py",
   "mimetype": "text/x-python",
   "name": "python",
   "nbconvert_exporter": "python",
   "pygments_lexer": "ipython3",
   "version": "3.7.7-final"
  }
 },
 "nbformat": 4,
 "nbformat_minor": 4
}